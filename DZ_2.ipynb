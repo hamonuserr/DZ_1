{
 "cells": [
  {
   "cell_type": "code",
   "execution_count": 31,
   "id": "36f8b86d-8974-4897-a2e7-4a11fd4a525a",
   "metadata": {},
   "outputs": [
    {
     "name": "stdout",
     "output_type": "stream",
     "text": [
      "2002-10-02 00:00:00\n",
      "2013-10-11 00:00:00\n",
      "1977-08-18 00:00:00\n"
     ]
    }
   ],
   "source": [
    "from datetime import datetime \n",
    "\n",
    "moscow_time = 'Wednesday, October 2, 2002'\n",
    "the_guardian = 'Friday, 11.10.13'\n",
    "daily_news = 'Thursday, 18 August 1977'\n",
    "\n",
    "formated_moscow_time = datetime.strptime(moscow_time, '%A, %B %d, %Y')\n",
    "formated_the_guardian = datetime.strptime(the_guardian, '%A, %d.%m.%y')\n",
    "formated_daily_news = datetime.strptime(daily_news, '%A, %d %B %Y')\n",
    "\n",
    "print(formated_moscow_time, formated_the_guardian, formated_daily_news, sep='\\n')"
   ]
  }
 ],
 "metadata": {
  "kernelspec": {
   "display_name": "Python 3 (ipykernel)",
   "language": "python",
   "name": "python3"
  },
  "language_info": {
   "codemirror_mode": {
    "name": "ipython",
    "version": 3
   },
   "file_extension": ".py",
   "mimetype": "text/x-python",
   "name": "python",
   "nbconvert_exporter": "python",
   "pygments_lexer": "ipython3",
   "version": "3.12.4"
  }
 },
 "nbformat": 4,
 "nbformat_minor": 5
}
