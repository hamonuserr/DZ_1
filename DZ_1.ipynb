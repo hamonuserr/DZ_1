{
 "cells": [
  {
   "cell_type": "code",
   "execution_count": 89,
   "id": "d7cf6051-815b-4386-9dc2-2cfa8cb0b36e",
   "metadata": {},
   "outputs": [
    {
     "name": "stdout",
     "output_type": "stream",
     "text": [
      "{'1840e0b9d4': 'Продукты', '4e4f90fcfb': 'Электроника', 'afea8d72fc': 'Электроника', '373a6055fe': 'Бытовая техника'}\n"
     ]
    }
   ],
   "source": [
    "import json\n",
    "purchases = dict()\n",
    "a = 0\n",
    "with open('purchase_log.txt', 'r', encoding='utf-8') as log_file:\n",
    "    log_file.readline()\n",
    "    for i in log_file.readlines():\n",
    "        key = json.loads(i)\n",
    "        purchases[key[\"user_id\"]] = key[\"category\"]\n",
    "        \n",
    "        a+=1\n",
    "        \n",
    "        if a ==4:\n",
    "            print(purchases)\n",
    "            pass  #(проверяем, все ли работает)"
   ]
  }
 ],
 "metadata": {
  "kernelspec": {
   "display_name": "Python 3 (ipykernel)",
   "language": "python",
   "name": "python3"
  },
  "language_info": {
   "codemirror_mode": {
    "name": "ipython",
    "version": 3
   },
   "file_extension": ".py",
   "mimetype": "text/x-python",
   "name": "python",
   "nbconvert_exporter": "python",
   "pygments_lexer": "ipython3",
   "version": "3.12.4"
  }
 },
 "nbformat": 4,
 "nbformat_minor": 5
}
