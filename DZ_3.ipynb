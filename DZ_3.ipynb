{
 "cells": [
  {
   "cell_type": "code",
   "execution_count": 314,
   "id": "7ffea169-dd80-48ad-a7e6-5f6e439e2d5d",
   "metadata": {},
   "outputs": [],
   "source": [
    "import datetime as dt\n",
    "\n",
    "class Account:\n",
    "    def __init__(self, name, balance):\n",
    "        self.__name = name\n",
    "        self.__balance = balance\n",
    "        self.__history = {}\n",
    "\n",
    "    def put_on_balance(self, amount):\n",
    "        self.__balance += amount\n",
    "        self.__history[dt.datetime.now().strftime('%Y-%m-%d %H:%M:%S')] = f'+ {amount}'\n",
    "\n",
    "    def remove_from_balance(self, amount):\n",
    "        if self.__balance < amount:\n",
    "            print('Недостаточно средств, введите корректное значение.')\n",
    "        else:\n",
    "            self.__balance -= amount\n",
    "            self.__history[(dt.datetime.now()+dt.timedelta(seconds=1)).strftime('%Y-%m-%d %H:%M:%S')] = f'- {amount}'\n",
    "\n",
    "    def show_users_history(self):\n",
    "        return self.__history\n",
    "    "
   ]
  },
  {
   "cell_type": "code",
   "execution_count": 316,
   "id": "45b94c15-4804-4d54-8ebd-32a6dd714d09",
   "metadata": {},
   "outputs": [],
   "source": [
    "user1 = Account(name = 'Vova', balance = 10000)"
   ]
  },
  {
   "cell_type": "code",
   "execution_count": 318,
   "id": "22f8d3f1-23f8-428a-a045-37b6e125cf8f",
   "metadata": {},
   "outputs": [],
   "source": [
    "user1.put_on_balance(25000)"
   ]
  },
  {
   "cell_type": "code",
   "execution_count": 320,
   "id": "82ec7017-c8d1-4438-b368-aa36b2d88fa8",
   "metadata": {},
   "outputs": [],
   "source": [
    "user1.remove_from_balance(35000)"
   ]
  },
  {
   "cell_type": "code",
   "execution_count": 322,
   "id": "4cefef79-8122-440c-8408-3ba805b7d71b",
   "metadata": {},
   "outputs": [
    {
     "data": {
      "text/plain": [
       "{'2024-10-05 17:14:43': '+ 25000', '2024-10-05 17:14:44': '- 35000'}"
      ]
     },
     "execution_count": 322,
     "metadata": {},
     "output_type": "execute_result"
    }
   ],
   "source": [
    "user1.show_users_history()"
   ]
  },
  {
   "cell_type": "code",
   "execution_count": 324,
   "id": "a5ce79ed-325c-4105-8e44-4fbefd3bbb65",
   "metadata": {},
   "outputs": [],
   "source": [
    "user1.put_on_balance(15000)\n",
    "user1.remove_from_balance(15000)"
   ]
  },
  {
   "cell_type": "code",
   "execution_count": 326,
   "id": "b1fef516-b243-49c6-8a95-4b2e16346779",
   "metadata": {},
   "outputs": [
    {
     "data": {
      "text/plain": [
       "{'2024-10-05 17:14:43': '+ 25000',\n",
       " '2024-10-05 17:14:44': '+ 15000',\n",
       " '2024-10-05 17:14:45': '- 15000'}"
      ]
     },
     "execution_count": 326,
     "metadata": {},
     "output_type": "execute_result"
    }
   ],
   "source": [
    "user1.show_users_history()"
   ]
  }
 ],
 "metadata": {
  "kernelspec": {
   "display_name": "Python 3 (ipykernel)",
   "language": "python",
   "name": "python3"
  },
  "language_info": {
   "codemirror_mode": {
    "name": "ipython",
    "version": 3
   },
   "file_extension": ".py",
   "mimetype": "text/x-python",
   "name": "python",
   "nbconvert_exporter": "python",
   "pygments_lexer": "ipython3",
   "version": "3.12.4"
  }
 },
 "nbformat": 4,
 "nbformat_minor": 5
}
